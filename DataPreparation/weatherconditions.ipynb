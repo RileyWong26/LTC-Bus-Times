{
 "cells": [
  {
   "cell_type": "code",
   "execution_count": 4,
   "metadata": {},
   "outputs": [],
   "source": [
    "import pandas as pd\n",
    "import numpy as np"
   ]
  },
  {
   "cell_type": "code",
   "execution_count": 16,
   "metadata": {},
   "outputs": [
    {
     "name": "stdout",
     "output_type": "stream",
     "text": [
      "[15. 14. 10.  9.  7.  5. nan  4. 17. 21. 16.  6.  0.  8. 13. 18. 12.  3.\n",
      " 19. 11. 25. 23. 22. 20. 26. 32. 35. 28. 29. 24. 27. 34. 31. 30. 39. 44.\n",
      " 33. 42. 36. 37.] [24.1  nan 19.3  6.4  4.8 16.1  9.7 12.9  8.1  3.2  1.2 14.5  4.  11.3\n",
      "  2.   0.4  1.   0.8  0.2  0.6  1.6 22.5  2.4  3.6]\n",
      "33383\n",
      "7344\n",
      "        route_id  delay  vehicle_id  stop_id  day_of_year  day  \\\n",
      "0            102      0      3527.0      709          259    6   \n",
      "1            102    -20      3527.0       57          259    6   \n",
      "2            102    -15      3527.0      266          259    6   \n",
      "3            102   -155      3527.0      422          259    6   \n",
      "4            102   -150      3527.0      967          259    6   \n",
      "...          ...    ...         ...      ...          ...  ...   \n",
      "299845       102    308      3331.0     1539           12    6   \n",
      "299846       102    196      3331.0       54           12    6   \n",
      "299847       102    256      3331.0       54           12    6   \n",
      "299848       102    329      3331.0      486           12    6   \n",
      "299849       102    225      3331.0      486           12    6   \n",
      "\n",
      "        scheduled_time  weather  temperature  Windspeed  Visibility  \\\n",
      "0                60900        1         26.6       15.0        24.1   \n",
      "1                60966        1         26.6       15.0        24.1   \n",
      "2                60966        1         26.6       15.0        24.1   \n",
      "3                61101        1         26.6       15.0        24.1   \n",
      "4                61101        1         26.6       15.0        24.1   \n",
      "...                ...      ...          ...        ...         ...   \n",
      "299845           86229        5         -0.2       23.0         9.7   \n",
      "299846           86340        5         -0.2       23.0         9.7   \n",
      "299847           86340        5         -0.2       23.0         9.7   \n",
      "299848           86340        5         -0.2       23.0         9.7   \n",
      "299849           86340        5         -0.2       23.0         9.7   \n",
      "\n",
      "        conditions  \n",
      "0                0  \n",
      "1                0  \n",
      "2                0  \n",
      "3                0  \n",
      "4                0  \n",
      "...            ...  \n",
      "299845           0  \n",
      "299846           0  \n",
      "299847           0  \n",
      "299848           0  \n",
      "299849           0  \n",
      "\n",
      "[299850 rows x 12 columns]\n"
     ]
    }
   ],
   "source": [
    "original_data = pd.read_csv('../Data/CondensedDataFiles/102_with_climate.csv')\n",
    "weather = pd.read_csv('../Data/OldFiles/102_with_weather.csv')\n",
    "\n",
    "windspeed = weather['Wind Spd (km/h)']\n",
    "visbility = weather['Visibility (km)']\n",
    "\n",
    "# print(windspeed,visbility)\n",
    "newframe = pd.concat([windspeed, visbility], axis=1)\n",
    "mask = windspeed.isna()\n",
    "newframe = newframe[~mask]\n",
    "\n",
    "print(windspeed.unique(), visbility.unique())\n",
    "\n",
    "def conditions(windspd, vis):\n",
    "    if (0.5< vis < 2.0 ) | (25.0 < windspd < 35.0):\n",
    "        return 1\n",
    "    elif (vis <= 0.5) | (windspd >= 35.0):\n",
    "        return 2\n",
    "    else:\n",
    "        return 0\n",
    "\n",
    "newframe['conditions'] = newframe.apply(lambda x: conditions(windspd=x['Wind Spd (km/h)'], vis=x['Visibility (km)']), axis=1)\n",
    "print(newframe['conditions'].value_counts().get(1))\n",
    "print(newframe['conditions'].value_counts().get(2))\n",
    "\n",
    "# Rename columns and drop and their indexing.\n",
    "newframe.rename(columns={'Wind Spd (km/h)':'Windspeed', 'Visibility (km)':'Visibility'}, inplace=True)\n",
    "newframe = newframe.reset_index(drop=True)\n",
    "\n",
    "# Add the original data with the new data\n",
    "df = pd.concat([original_data, newframe], axis=1)\n",
    "print(df)\n",
    "\n",
    "# df.to_csv('../Data/CondensedDataFiles/102_updated.csv') # Writing to CSV\n",
    "\n",
    "\n"
   ]
  }
 ],
 "metadata": {
  "kernelspec": {
   "display_name": "Python 3",
   "language": "python",
   "name": "python3"
  },
  "language_info": {
   "codemirror_mode": {
    "name": "ipython",
    "version": 3
   },
   "file_extension": ".py",
   "mimetype": "text/x-python",
   "name": "python",
   "nbconvert_exporter": "python",
   "pygments_lexer": "ipython3",
   "version": "3.12.5"
  }
 },
 "nbformat": 4,
 "nbformat_minor": 2
}
