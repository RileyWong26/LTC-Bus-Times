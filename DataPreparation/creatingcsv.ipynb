{
 "cells": [
  {
   "cell_type": "code",
   "execution_count": 1,
   "metadata": {},
   "outputs": [],
   "source": [
    "import pandas as pd\n",
    "from sklearn.preprocessing import LabelEncoder\n",
    "import numpy as np\n"
   ]
  },
  {
   "cell_type": "code",
   "execution_count": 4,
   "metadata": {},
   "outputs": [
    {
     "name": "stderr",
     "output_type": "stream",
     "text": [
      "C:\\Users\\riley\\AppData\\Local\\Temp\\ipykernel_7544\\4277417870.py:8: FutureWarning: Series.fillna with 'method' is deprecated and will raise in a future version. Use obj.ffill() or obj.bfill() instead.\n",
      "  weather = data['Weather'].fillna(method='ffill')\n"
     ]
    }
   ],
   "source": [
    "data = pd.read_csv(\"../Data/OldFiles/102_with_weather.csv\")\n",
    "# scheduled_time = pd.read_csv('combined3_102_sorted.csv')\n",
    "# scheduled_time = scheduled_time[['scheduled_time']]\n",
    "\n",
    "newdata = pd.DataFrame(data[['route_id','delay', 'vehicle_id','stop_id','day_of_year','day']])\n",
    "\n",
    "# Fill the nans in weather with the things above it\n",
    "weather = data['Weather'].fillna(method='ffill')\n",
    "\n",
    "# Change the temperature column name..\n",
    "temperature = data[['Temp (°C)']].values\n",
    "temp = pd.DataFrame(temperature, columns=['temperature'])\n",
    "\n",
    "# Encode weather\n",
    "label = LabelEncoder()\n",
    "encoded_weather = label.fit(weather)\n",
    "np.save('weather.pkl', encoded_weather.classes_)\n",
    "# encoded_weather = pd.DataFrame(encoded_weather, columns=['weather'])\n",
    "\n",
    "# newframe = pd.concat([newdata, scheduled_time, encoded_weather, temp], axis=1)\n",
    "\n",
    "\n",
    "# # Mask get rid of times Weather station was not running\n",
    "# mask = data['Temp (°C)'].isna()\n",
    "# newframe = newframe[~mask]\n",
    "# print(newframe)\n",
    "\n",
    "# Write to csv\n",
    "# newframe.to_csv('102_with_climate.csv',index=False)"
   ]
  }
 ],
 "metadata": {
  "kernelspec": {
   "display_name": "Python 3",
   "language": "python",
   "name": "python3"
  },
  "language_info": {
   "codemirror_mode": {
    "name": "ipython",
    "version": 3
   },
   "file_extension": ".py",
   "mimetype": "text/x-python",
   "name": "python",
   "nbconvert_exporter": "python",
   "pygments_lexer": "ipython3",
   "version": "3.12.5"
  }
 },
 "nbformat": 4,
 "nbformat_minor": 2
}
