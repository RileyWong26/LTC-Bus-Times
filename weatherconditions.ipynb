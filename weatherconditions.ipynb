{
 "cells": [
  {
   "cell_type": "code",
   "execution_count": 1,
   "metadata": {},
   "outputs": [],
   "source": [
    "import pandas as pd\n",
    "import numpy as np"
   ]
  },
  {
   "cell_type": "code",
   "execution_count": null,
   "metadata": {},
   "outputs": [
    {
     "name": "stdout",
     "output_type": "stream",
     "text": [
      "        Wind Spd (km/h)  Visibility (km)\n",
      "0                  15.0             24.1\n",
      "1                  15.0             24.1\n",
      "2                  15.0             24.1\n",
      "3                  15.0             24.1\n",
      "4                  15.0             24.1\n",
      "...                 ...              ...\n",
      "383802             23.0              9.7\n",
      "383803             23.0              9.7\n",
      "383804             23.0              9.7\n",
      "383805             23.0              9.7\n",
      "383806             23.0              9.7\n",
      "\n",
      "[299850 rows x 2 columns]\n",
      "[15. 14. 10.  9.  7.  5. nan  4. 17. 21. 16.  6.  0.  8. 13. 18. 12.  3.\n",
      " 19. 11. 25. 23. 22. 20. 26. 32. 35. 28. 29. 24. 27. 34. 31. 30. 39. 44.\n",
      " 33. 42. 36. 37.] [24.1  nan 19.3  6.4  4.8 16.1  9.7 12.9  8.1  3.2  1.2 14.5  4.  11.3\n",
      "  2.   0.4  1.   0.8  0.2  0.6  1.6 22.5  2.4  3.6]\n",
      "72888\n",
      "19269\n"
     ]
    }
   ],
   "source": [
    "original_data = pd.read_csv('102_with_climate.csv')\n",
    "weather = pd.read_csv('102_with_weather.csv')\n",
    "\n",
    "windspeed = weather['Wind Spd (km/h)']\n",
    "visbility = weather['Visibility (km)']\n",
    "\n",
    "# print(windspeed,visbility)\n",
    "newframe = pd.concat([windspeed, visbility], axis=1)\n",
    "mask = windspeed.isna()\n",
    "newframe = newframe[~mask]\n",
    "print(newframe)\n",
    "\n",
    "conditions = []\n",
    "print(windspeed.unique(), visbility.unique())\n",
    "\n",
    "def conditions(windspd, vis):\n",
    "    if (1.0< vis < 5.0 ) | (20.0 < windspd < 30.0):\n",
    "        return 1\n",
    "    elif (vis <= 1.0) | (windspd >= 30.0):\n",
    "        return 2\n",
    "    else:\n",
    "        return 0\n",
    "\n",
    "newframe['conditions'] = newframe.apply(lambda x: conditions(windspd=x['Wind Spd (km/h)'], vis=x['Visibility (km)']), axis=1)\n",
    "print(newframe['conditions'].value_counts().get(1))\n",
    "print(newframe['conditions'].value_counts().get(2))\n",
    "\n",
    "# wea = weather['Weather']\n",
    "# print(wea.unique())\n",
    "# print(wea.value_counts().get('Heavy Snow Showers'))\n",
    "\n"
   ]
  }
 ],
 "metadata": {
  "kernelspec": {
   "display_name": "Python 3",
   "language": "python",
   "name": "python3"
  },
  "language_info": {
   "codemirror_mode": {
    "name": "ipython",
    "version": 3
   },
   "file_extension": ".py",
   "mimetype": "text/x-python",
   "name": "python",
   "nbconvert_exporter": "python",
   "pygments_lexer": "ipython3",
   "version": "3.12.5"
  }
 },
 "nbformat": 4,
 "nbformat_minor": 2
}
