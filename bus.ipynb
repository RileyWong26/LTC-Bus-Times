{
 "cells": [
  {
   "cell_type": "markdown",
   "metadata": {},
   "source": [
    "Imports"
   ]
  },
  {
   "cell_type": "code",
   "execution_count": 2,
   "metadata": {},
   "outputs": [],
   "source": [
    "import pandas as pd\n",
    "import numpy as np\n",
    "import torch\n",
    "import torch.nn as nn\n",
    "from sklearn.preprocessing import MinMaxScaler\n",
    "from torch.utils.data import TensorDataset, DataLoader, RandomSampler\n",
    "from sklearn.preprocessing import LabelEncoder"
   ]
  },
  {
   "cell_type": "code",
   "execution_count": 3,
   "metadata": {},
   "outputs": [],
   "source": [
    "# Import data\n",
    "data = pd.read_csv(\"combined3_102_sorted.csv\")\n",
    "data2 = pd.read_csv(\"102_with_weather.csv\")\n",
    "# scaler = MinMaxScaler()\n",
    "# scaled_data = scaler.fit_transform(data[['delay', 'scheduled_time', 'day', 'day_of_year']])\n",
    "\n",
    "weather = data2[\"Weather\"].values\n",
    "encoder = LabelEncoder()\n",
    "unique = encoder.fit_transform(weather).reshape(-1,1)\n",
    "unique += 1\n",
    "\n",
    "# Data prep and seperation\n",
    "data = data[['delay', 'scheduled_time', 'day', 'day_of_year']].values\n",
    "\n",
    "# Z score normalization\n",
    "mean = np.mean(data)\n",
    "std_dev = np.std(data)\n",
    "scaled_data = (data-mean)/std_dev\n",
    "\n",
    "scaled_data = np.concatenate((scaled_data, unique), axis=1)"
   ]
  },
  {
   "cell_type": "code",
   "execution_count": 4,
   "metadata": {},
   "outputs": [],
   "source": [
    "\n",
    "torch.manual_seed(100)\n",
    "\n",
    "# # create train and test sets\n",
    "# sizes = int(len(scaled_data) * 0.2)\n",
    "# test_data = scaled_data[:sizes]\n",
    "# train_data = scaled_data[sizes:]\n",
    "train_sample = RandomSampler(data_source=scaled_data, num_samples=50100)\n",
    "test_sample = RandomSampler(data_source=scaled_data, num_samples=12600)"
   ]
  },
  {
   "cell_type": "code",
   "execution_count": 5,
   "metadata": {},
   "outputs": [],
   "source": [
    "# Batches\n",
    "train_batchs = DataLoader(dataset=scaled_data, batch_size=150, shuffle=False, sampler=train_sample)  \n",
    "test_batchs = DataLoader(dataset=scaled_data, batch_size=150, shuffle=False, sampler =test_sample)\n",
    "# Sequence creator\n",
    "def createSequences(data, seq_length):\n",
    "    x, y = [], []\n",
    "    for i in range(len(data) - seq_length):\n",
    "        x_data = data[i:(seq_length+i)]\n",
    "        y_data = data[seq_length+i][0]\n",
    "        if len(x_data) < 30:\n",
    "            for i in range (30 - len(x_data)):\n",
    "                x_data.append(0)\n",
    "        x.append(x_data)\n",
    "        y.append(y_data)\n",
    "    return torch.stack(x, dim=0), torch.stack(y, dim=0)"
   ]
  },
  {
   "cell_type": "markdown",
   "metadata": {},
   "source": [
    "Normal LSTM"
   ]
  },
  {
   "cell_type": "code",
   "execution_count": 6,
   "metadata": {},
   "outputs": [],
   "source": [
    "class LSTM(nn.Module):\n",
    "    def __init__(self, inputdim, outputdim, layerdim, dropout):\n",
    "        super(LSTM, self).__init__()\n",
    "        self.layerdim = layerdim\n",
    "        self.lstm1 = nn.LSTM(inputdim, 108, layerdim, batch_first=True)\n",
    "        self.batchnorm = nn.BatchNorm1d(108)\n",
    "        self.dropout = nn.Dropout(dropout)\n",
    "        self.lstm2 = nn.LSTM(108, 56, layerdim, batch_first=True)\n",
    "        self.layers = nn.Sequential(\n",
    "            nn.Linear(56,32),\n",
    "            nn.ReLU(),\n",
    "            nn.Linear(32, outputdim)\n",
    "        )\n",
    "    \n",
    "    def forward(self, x, h1=None, c1=None, h2=None, c2=None):\n",
    "        if h1 is None or c1 is None or h2 is None or c2 is None:\n",
    "            h1 = torch.zeros(self.layerdim, x.size(0), 108)\n",
    "            c1 = torch.zeros(self.layerdim, x.size(0), 108)\n",
    "            h2 = torch.zeros(self.layerdim, x.size(0), 56)\n",
    "            c2 = torch.zeros(self.layerdim, x.size(0), 56)\n",
    "        \n",
    "        out,(h1, c1) = self.lstm1(x, (h1,c1))\n",
    "\n",
    "        # Batch Normalization\n",
    "        batch_size, seq_len, hidd_size = out.shape\n",
    "        out = out.reshape(batch_size * seq_len, hidd_size)\n",
    "        out = self.batchnorm(out)\n",
    "        out = out.reshape(batch_size, seq_len, hidd_size)\n",
    "\n",
    "        # Dropout between layers\n",
    "        out = self.dropout(out)\n",
    "        # Second LSTM\n",
    "        out, (h2, c2) = self.lstm2(out, (h2, c2))\n",
    "        # Dense layers \n",
    "        out = self.layers(out)\n",
    "        out = out[:, -1, :]\n",
    "        return out, h1, c1, h2, c2"
   ]
  },
  {
   "cell_type": "markdown",
   "metadata": {},
   "source": [
    "BiLSTM"
   ]
  },
  {
   "cell_type": "code",
   "execution_count": 7,
   "metadata": {},
   "outputs": [],
   "source": [
    "class BiLSTM(nn.Module):\n",
    "    def __init__(self, inputdim, outputdim, layerdim, dropout):\n",
    "        super(BiLSTM, self).__init__()\n",
    "        self.layerdim = layerdim\n",
    "        self.embedding = nn.Embedding(num_embeddings=25, embedding_dim=1)\n",
    "\n",
    "        self.lstm1 = nn.LSTM(inputdim, 108, layerdim, batch_first=True, bidirectional=True)\n",
    "        self.batchnorm = nn.BatchNorm1d(216)\n",
    "        self.dropout = nn.Dropout(dropout)\n",
    "        self.lstm2 = nn.LSTM(108 * 2, 56, layerdim, batch_first=True, bidirectional=True)\n",
    "        self.layers = nn.Sequential(\n",
    "            nn.Linear(56 * 2,56),\n",
    "            nn.ReLU(),\n",
    "            nn.Linear(56, 32),\n",
    "            nn.ReLU(),\n",
    "            nn.Linear(32, outputdim)\n",
    "        )\n",
    "    \n",
    "    def forward(self, x, h1=None, c1=None, h2=None, c2=None):\n",
    "        if h1 is None or c1 is None or h2 is None or c2 is None:\n",
    "            h1 = torch.zeros(self.layerdim*2, x.size(0), 108)\n",
    "            c1 = torch.zeros(self.layerdim*2, x.size(0), 108)\n",
    "            h2 = torch.zeros(self.layerdim*2, x.size(0), 56)\n",
    "            c2 = torch.zeros(self.layerdim*2, x.size(0), 56)\n",
    "        \n",
    "        emb = x[:, :, 4].to(torch.long)\n",
    "\n",
    "        embed = self.embedding(emb).to(torch.float32)\n",
    "        x = x[:, :, :4]\n",
    "        \n",
    "        x = torch.cat([embed, x], dim=2)\n",
    "        out,(h1, c1) = self.lstm1(x, (h1,c1))\n",
    "\n",
    "        # Batch Normilization\n",
    "        batch_size, seq_len, hidd_size = out.shape\n",
    "        out = out.reshape(batch_size * seq_len, hidd_size)\n",
    "        out = self.batchnorm(out)\n",
    "        out = out.reshape(batch_size, seq_len, hidd_size)\n",
    "\n",
    "        # Drop out between layers\n",
    "        out = self.dropout(out)\n",
    "        # Second LSTM layer\n",
    "        out, (h2, c2) = self.lstm2(out, (h2, c2))\n",
    "        out = self.layers(out)\n",
    "        out = out[:, -1, :56]\n",
    "        return out, h1, c1, h2, c2"
   ]
  },
  {
   "cell_type": "markdown",
   "metadata": {},
   "source": [
    "Attention"
   ]
  },
  {
   "cell_type": "code",
   "execution_count": 6,
   "metadata": {},
   "outputs": [],
   "source": [
    "class AttentionBiLSTM(nn.Module):\n",
    "    def __init__(self, inputdim, outputdim, numheads, layerdim, dropout):\n",
    "        super(AttentionBiLSTM, self).__init__()\n",
    "        self.layerdim = layerdim\n",
    "        \n",
    "        self.embedding = nn.Embedding(num_embeddings=27, embedding_dim=1)\n",
    "\n",
    "        self.lstm1 = nn.LSTM(inputdim, 108, layerdim, batch_first=True, bidirectional=True)\n",
    "        self.batchnorm = nn.BatchNorm1d(216)\n",
    "        self.dropout = nn.Dropout(dropout)\n",
    "        self.lstm2 = nn.LSTM(108 * 2, 56, layerdim, batch_first=True, bidirectional=True)\n",
    "        self.attention = nn.MultiheadAttention(embed_dim=112, num_heads=numheads, batch_first=True)\n",
    "        self.layers = nn.Sequential(\n",
    "            nn.Linear(56 * 2,56),\n",
    "            nn.ReLU(),\n",
    "            nn.Linear(56, 32),\n",
    "            nn.ReLU(),\n",
    "            nn.Linear(32, outputdim)\n",
    "        )\n",
    "    \n",
    "    def forward(self, x, h1=None, c1=None, h2=None, c2=None):\n",
    "        if h1 is None or c1 is None or h2 is None or c2 is None:\n",
    "            h1 = torch.zeros(self.layerdim*2, x.size(0), 108)\n",
    "            c1 = torch.zeros(self.layerdim*2, x.size(0), 108)\n",
    "            h2 = torch.zeros(self.layerdim*2, x.size(0), 56)\n",
    "            c2 = torch.zeros(self.layerdim*2, x.size(0), 56)\n",
    "        \n",
    "        # Embedding\n",
    "        emb = x[:, :, 4].to(torch.long)\n",
    "        \n",
    "        embed = self.embedding(emb).to(torch.float32)\n",
    "        x = x[:, :, :4]\n",
    "        \n",
    "        x = torch.cat([embed, x], dim=2)\n",
    "\n",
    "        # First LSTM\n",
    "        out,(h1, c1) = self.lstm1(x, (h1,c1))\n",
    "\n",
    "        # Batch Normilization\n",
    "        batch_size, seq_len, hidd_size = out.shape\n",
    "        out = out.reshape(batch_size * seq_len, hidd_size)\n",
    "        out = self.batchnorm(out)\n",
    "        out = out.reshape(batch_size, seq_len, hidd_size)\n",
    "\n",
    "        # Drop out between layers\n",
    "        out = self.dropout(out)\n",
    "        # Second LSTM layer\n",
    "        out, (h2, c2) = self.lstm2(out, (h2, c2))\n",
    "\n",
    "        # Add attention layer\n",
    "        out, attn_weights = self.attention(query=out, key=out,value=out)\n",
    "        out = self.layers(out)\n",
    "        out = out[:, -1, :56]\n",
    "        return out, h1, c1, h2, c2"
   ]
  },
  {
   "cell_type": "markdown",
   "metadata": {},
   "source": [
    "model"
   ]
  },
  {
   "cell_type": "code",
   "execution_count": 7,
   "metadata": {},
   "outputs": [],
   "source": [
    "# Model\n",
    "# model = LSTM(inputdim=4, outputdim=1, layerdim=1, dropout=0.2)  # NON Bidirectional\n",
    "# model = BiLSTM(inputdim=5, outputdim=1, layerdim=1, dropout=0.2)  # Bi Directional\n",
    "model = AttentionBiLSTM(inputdim=5, outputdim=1,numheads=4, layerdim=1, dropout=0.2) # Bi Directional with Attention\n",
    "loss_fcn = nn.L1Loss()\n",
    "optimizer = torch.optim.Adam(model.parameters(), lr=0.01)\n",
    "\n",
    "h1, c1, h2, c2 = None, None, None, None"
   ]
  },
  {
   "cell_type": "code",
   "execution_count": 9,
   "metadata": {},
   "outputs": [
    {
     "name": "stdout",
     "output_type": "stream",
     "text": [
      "0 0.6760874450516402\n"
     ]
    },
    {
     "ename": "KeyboardInterrupt",
     "evalue": "",
     "output_type": "error",
     "traceback": [
      "\u001b[1;31m---------------------------------------------------------------------------\u001b[0m",
      "\u001b[1;31mKeyboardInterrupt\u001b[0m                         Traceback (most recent call last)",
      "Cell \u001b[1;32mIn[9], line 15\u001b[0m\n\u001b[0;32m     12\u001b[0m epochs \u001b[38;5;241m=\u001b[39m \u001b[38;5;241m50\u001b[39m\n\u001b[0;32m     13\u001b[0m \u001b[38;5;28;01mfor\u001b[39;00m epoch \u001b[38;5;129;01min\u001b[39;00m \u001b[38;5;28mrange\u001b[39m(epochs):\n\u001b[1;32m---> 15\u001b[0m     pred, h1, c1, h2, c2\u001b[38;5;241m=\u001b[39m \u001b[43mmodel\u001b[49m\u001b[43m(\u001b[49m\u001b[43mX_train\u001b[49m\u001b[43m,\u001b[49m\u001b[43m \u001b[49m\u001b[43mh1\u001b[49m\u001b[43m,\u001b[49m\u001b[43m \u001b[49m\u001b[43mc1\u001b[49m\u001b[43m,\u001b[49m\u001b[43m \u001b[49m\u001b[43mh2\u001b[49m\u001b[43m,\u001b[49m\u001b[43m \u001b[49m\u001b[43mc2\u001b[49m\u001b[43m)\u001b[49m\n\u001b[0;32m     16\u001b[0m     \u001b[38;5;66;03m# print(pred.shape)\u001b[39;00m\n\u001b[0;32m     18\u001b[0m     loss \u001b[38;5;241m=\u001b[39m loss_fcn(pred, y_train)\n",
      "File \u001b[1;32mc:\\Users\\riley\\AppData\\Local\\Programs\\Python\\Python312\\Lib\\site-packages\\torch\\nn\\modules\\module.py:1736\u001b[0m, in \u001b[0;36mModule._wrapped_call_impl\u001b[1;34m(self, *args, **kwargs)\u001b[0m\n\u001b[0;32m   1734\u001b[0m     \u001b[38;5;28;01mreturn\u001b[39;00m \u001b[38;5;28mself\u001b[39m\u001b[38;5;241m.\u001b[39m_compiled_call_impl(\u001b[38;5;241m*\u001b[39margs, \u001b[38;5;241m*\u001b[39m\u001b[38;5;241m*\u001b[39mkwargs)  \u001b[38;5;66;03m# type: ignore[misc]\u001b[39;00m\n\u001b[0;32m   1735\u001b[0m \u001b[38;5;28;01melse\u001b[39;00m:\n\u001b[1;32m-> 1736\u001b[0m     \u001b[38;5;28;01mreturn\u001b[39;00m \u001b[38;5;28;43mself\u001b[39;49m\u001b[38;5;241;43m.\u001b[39;49m\u001b[43m_call_impl\u001b[49m\u001b[43m(\u001b[49m\u001b[38;5;241;43m*\u001b[39;49m\u001b[43margs\u001b[49m\u001b[43m,\u001b[49m\u001b[43m \u001b[49m\u001b[38;5;241;43m*\u001b[39;49m\u001b[38;5;241;43m*\u001b[39;49m\u001b[43mkwargs\u001b[49m\u001b[43m)\u001b[49m\n",
      "File \u001b[1;32mc:\\Users\\riley\\AppData\\Local\\Programs\\Python\\Python312\\Lib\\site-packages\\torch\\nn\\modules\\module.py:1747\u001b[0m, in \u001b[0;36mModule._call_impl\u001b[1;34m(self, *args, **kwargs)\u001b[0m\n\u001b[0;32m   1742\u001b[0m \u001b[38;5;66;03m# If we don't have any hooks, we want to skip the rest of the logic in\u001b[39;00m\n\u001b[0;32m   1743\u001b[0m \u001b[38;5;66;03m# this function, and just call forward.\u001b[39;00m\n\u001b[0;32m   1744\u001b[0m \u001b[38;5;28;01mif\u001b[39;00m \u001b[38;5;129;01mnot\u001b[39;00m (\u001b[38;5;28mself\u001b[39m\u001b[38;5;241m.\u001b[39m_backward_hooks \u001b[38;5;129;01mor\u001b[39;00m \u001b[38;5;28mself\u001b[39m\u001b[38;5;241m.\u001b[39m_backward_pre_hooks \u001b[38;5;129;01mor\u001b[39;00m \u001b[38;5;28mself\u001b[39m\u001b[38;5;241m.\u001b[39m_forward_hooks \u001b[38;5;129;01mor\u001b[39;00m \u001b[38;5;28mself\u001b[39m\u001b[38;5;241m.\u001b[39m_forward_pre_hooks\n\u001b[0;32m   1745\u001b[0m         \u001b[38;5;129;01mor\u001b[39;00m _global_backward_pre_hooks \u001b[38;5;129;01mor\u001b[39;00m _global_backward_hooks\n\u001b[0;32m   1746\u001b[0m         \u001b[38;5;129;01mor\u001b[39;00m _global_forward_hooks \u001b[38;5;129;01mor\u001b[39;00m _global_forward_pre_hooks):\n\u001b[1;32m-> 1747\u001b[0m     \u001b[38;5;28;01mreturn\u001b[39;00m \u001b[43mforward_call\u001b[49m\u001b[43m(\u001b[49m\u001b[38;5;241;43m*\u001b[39;49m\u001b[43margs\u001b[49m\u001b[43m,\u001b[49m\u001b[43m \u001b[49m\u001b[38;5;241;43m*\u001b[39;49m\u001b[38;5;241;43m*\u001b[39;49m\u001b[43mkwargs\u001b[49m\u001b[43m)\u001b[49m\n\u001b[0;32m   1749\u001b[0m result \u001b[38;5;241m=\u001b[39m \u001b[38;5;28;01mNone\u001b[39;00m\n\u001b[0;32m   1750\u001b[0m called_always_called_hooks \u001b[38;5;241m=\u001b[39m \u001b[38;5;28mset\u001b[39m()\n",
      "Cell \u001b[1;32mIn[7], line 48\u001b[0m, in \u001b[0;36mAttentionBiLSTM.forward\u001b[1;34m(self, x, h1, c1, h2, c2)\u001b[0m\n\u001b[0;32m     46\u001b[0m out \u001b[38;5;241m=\u001b[39m \u001b[38;5;28mself\u001b[39m\u001b[38;5;241m.\u001b[39mdropout(out)\n\u001b[0;32m     47\u001b[0m \u001b[38;5;66;03m# Second LSTM layer\u001b[39;00m\n\u001b[1;32m---> 48\u001b[0m out, (h2, c2) \u001b[38;5;241m=\u001b[39m \u001b[38;5;28;43mself\u001b[39;49m\u001b[38;5;241;43m.\u001b[39;49m\u001b[43mlstm2\u001b[49m\u001b[43m(\u001b[49m\u001b[43mout\u001b[49m\u001b[43m,\u001b[49m\u001b[43m \u001b[49m\u001b[43m(\u001b[49m\u001b[43mh2\u001b[49m\u001b[43m,\u001b[49m\u001b[43m \u001b[49m\u001b[43mc2\u001b[49m\u001b[43m)\u001b[49m\u001b[43m)\u001b[49m\n\u001b[0;32m     50\u001b[0m \u001b[38;5;66;03m# Add attention layer\u001b[39;00m\n\u001b[0;32m     51\u001b[0m out, attn_weights \u001b[38;5;241m=\u001b[39m \u001b[38;5;28mself\u001b[39m\u001b[38;5;241m.\u001b[39mattention(query\u001b[38;5;241m=\u001b[39mout, key\u001b[38;5;241m=\u001b[39mout,value\u001b[38;5;241m=\u001b[39mout)\n",
      "File \u001b[1;32mc:\\Users\\riley\\AppData\\Local\\Programs\\Python\\Python312\\Lib\\site-packages\\torch\\nn\\modules\\module.py:1736\u001b[0m, in \u001b[0;36mModule._wrapped_call_impl\u001b[1;34m(self, *args, **kwargs)\u001b[0m\n\u001b[0;32m   1734\u001b[0m     \u001b[38;5;28;01mreturn\u001b[39;00m \u001b[38;5;28mself\u001b[39m\u001b[38;5;241m.\u001b[39m_compiled_call_impl(\u001b[38;5;241m*\u001b[39margs, \u001b[38;5;241m*\u001b[39m\u001b[38;5;241m*\u001b[39mkwargs)  \u001b[38;5;66;03m# type: ignore[misc]\u001b[39;00m\n\u001b[0;32m   1735\u001b[0m \u001b[38;5;28;01melse\u001b[39;00m:\n\u001b[1;32m-> 1736\u001b[0m     \u001b[38;5;28;01mreturn\u001b[39;00m \u001b[38;5;28;43mself\u001b[39;49m\u001b[38;5;241;43m.\u001b[39;49m\u001b[43m_call_impl\u001b[49m\u001b[43m(\u001b[49m\u001b[38;5;241;43m*\u001b[39;49m\u001b[43margs\u001b[49m\u001b[43m,\u001b[49m\u001b[43m \u001b[49m\u001b[38;5;241;43m*\u001b[39;49m\u001b[38;5;241;43m*\u001b[39;49m\u001b[43mkwargs\u001b[49m\u001b[43m)\u001b[49m\n",
      "File \u001b[1;32mc:\\Users\\riley\\AppData\\Local\\Programs\\Python\\Python312\\Lib\\site-packages\\torch\\nn\\modules\\module.py:1747\u001b[0m, in \u001b[0;36mModule._call_impl\u001b[1;34m(self, *args, **kwargs)\u001b[0m\n\u001b[0;32m   1742\u001b[0m \u001b[38;5;66;03m# If we don't have any hooks, we want to skip the rest of the logic in\u001b[39;00m\n\u001b[0;32m   1743\u001b[0m \u001b[38;5;66;03m# this function, and just call forward.\u001b[39;00m\n\u001b[0;32m   1744\u001b[0m \u001b[38;5;28;01mif\u001b[39;00m \u001b[38;5;129;01mnot\u001b[39;00m (\u001b[38;5;28mself\u001b[39m\u001b[38;5;241m.\u001b[39m_backward_hooks \u001b[38;5;129;01mor\u001b[39;00m \u001b[38;5;28mself\u001b[39m\u001b[38;5;241m.\u001b[39m_backward_pre_hooks \u001b[38;5;129;01mor\u001b[39;00m \u001b[38;5;28mself\u001b[39m\u001b[38;5;241m.\u001b[39m_forward_hooks \u001b[38;5;129;01mor\u001b[39;00m \u001b[38;5;28mself\u001b[39m\u001b[38;5;241m.\u001b[39m_forward_pre_hooks\n\u001b[0;32m   1745\u001b[0m         \u001b[38;5;129;01mor\u001b[39;00m _global_backward_pre_hooks \u001b[38;5;129;01mor\u001b[39;00m _global_backward_hooks\n\u001b[0;32m   1746\u001b[0m         \u001b[38;5;129;01mor\u001b[39;00m _global_forward_hooks \u001b[38;5;129;01mor\u001b[39;00m _global_forward_pre_hooks):\n\u001b[1;32m-> 1747\u001b[0m     \u001b[38;5;28;01mreturn\u001b[39;00m \u001b[43mforward_call\u001b[49m\u001b[43m(\u001b[49m\u001b[38;5;241;43m*\u001b[39;49m\u001b[43margs\u001b[49m\u001b[43m,\u001b[49m\u001b[43m \u001b[49m\u001b[38;5;241;43m*\u001b[39;49m\u001b[38;5;241;43m*\u001b[39;49m\u001b[43mkwargs\u001b[49m\u001b[43m)\u001b[49m\n\u001b[0;32m   1749\u001b[0m result \u001b[38;5;241m=\u001b[39m \u001b[38;5;28;01mNone\u001b[39;00m\n\u001b[0;32m   1750\u001b[0m called_always_called_hooks \u001b[38;5;241m=\u001b[39m \u001b[38;5;28mset\u001b[39m()\n",
      "File \u001b[1;32mc:\\Users\\riley\\AppData\\Local\\Programs\\Python\\Python312\\Lib\\site-packages\\torch\\nn\\modules\\rnn.py:1123\u001b[0m, in \u001b[0;36mLSTM.forward\u001b[1;34m(self, input, hx)\u001b[0m\n\u001b[0;32m   1120\u001b[0m         hx \u001b[38;5;241m=\u001b[39m \u001b[38;5;28mself\u001b[39m\u001b[38;5;241m.\u001b[39mpermute_hidden(hx, sorted_indices)\n\u001b[0;32m   1122\u001b[0m \u001b[38;5;28;01mif\u001b[39;00m batch_sizes \u001b[38;5;129;01mis\u001b[39;00m \u001b[38;5;28;01mNone\u001b[39;00m:\n\u001b[1;32m-> 1123\u001b[0m     result \u001b[38;5;241m=\u001b[39m \u001b[43m_VF\u001b[49m\u001b[38;5;241;43m.\u001b[39;49m\u001b[43mlstm\u001b[49m\u001b[43m(\u001b[49m\n\u001b[0;32m   1124\u001b[0m \u001b[43m        \u001b[49m\u001b[38;5;28;43minput\u001b[39;49m\u001b[43m,\u001b[49m\n\u001b[0;32m   1125\u001b[0m \u001b[43m        \u001b[49m\u001b[43mhx\u001b[49m\u001b[43m,\u001b[49m\n\u001b[0;32m   1126\u001b[0m \u001b[43m        \u001b[49m\u001b[38;5;28;43mself\u001b[39;49m\u001b[38;5;241;43m.\u001b[39;49m\u001b[43m_flat_weights\u001b[49m\u001b[43m,\u001b[49m\n\u001b[0;32m   1127\u001b[0m \u001b[43m        \u001b[49m\u001b[38;5;28;43mself\u001b[39;49m\u001b[38;5;241;43m.\u001b[39;49m\u001b[43mbias\u001b[49m\u001b[43m,\u001b[49m\n\u001b[0;32m   1128\u001b[0m \u001b[43m        \u001b[49m\u001b[38;5;28;43mself\u001b[39;49m\u001b[38;5;241;43m.\u001b[39;49m\u001b[43mnum_layers\u001b[49m\u001b[43m,\u001b[49m\n\u001b[0;32m   1129\u001b[0m \u001b[43m        \u001b[49m\u001b[38;5;28;43mself\u001b[39;49m\u001b[38;5;241;43m.\u001b[39;49m\u001b[43mdropout\u001b[49m\u001b[43m,\u001b[49m\n\u001b[0;32m   1130\u001b[0m \u001b[43m        \u001b[49m\u001b[38;5;28;43mself\u001b[39;49m\u001b[38;5;241;43m.\u001b[39;49m\u001b[43mtraining\u001b[49m\u001b[43m,\u001b[49m\n\u001b[0;32m   1131\u001b[0m \u001b[43m        \u001b[49m\u001b[38;5;28;43mself\u001b[39;49m\u001b[38;5;241;43m.\u001b[39;49m\u001b[43mbidirectional\u001b[49m\u001b[43m,\u001b[49m\n\u001b[0;32m   1132\u001b[0m \u001b[43m        \u001b[49m\u001b[38;5;28;43mself\u001b[39;49m\u001b[38;5;241;43m.\u001b[39;49m\u001b[43mbatch_first\u001b[49m\u001b[43m,\u001b[49m\n\u001b[0;32m   1133\u001b[0m \u001b[43m    \u001b[49m\u001b[43m)\u001b[49m\n\u001b[0;32m   1134\u001b[0m \u001b[38;5;28;01melse\u001b[39;00m:\n\u001b[0;32m   1135\u001b[0m     result \u001b[38;5;241m=\u001b[39m _VF\u001b[38;5;241m.\u001b[39mlstm(\n\u001b[0;32m   1136\u001b[0m         \u001b[38;5;28minput\u001b[39m,\n\u001b[0;32m   1137\u001b[0m         batch_sizes,\n\u001b[1;32m   (...)\u001b[0m\n\u001b[0;32m   1144\u001b[0m         \u001b[38;5;28mself\u001b[39m\u001b[38;5;241m.\u001b[39mbidirectional,\n\u001b[0;32m   1145\u001b[0m     )\n",
      "\u001b[1;31mKeyboardInterrupt\u001b[0m: "
     ]
    }
   ],
   "source": [
    "# print(len(train_batchs))\n",
    "for batch in train_batchs:\n",
    "    # Create sequences\n",
    "    X_train, y_train = createSequences(batch, 30)\n",
    "    y_train = y_train.reshape(-1,1)\n",
    "    X_train = X_train.float()\n",
    "    # print(X_train.shape, y_train.shape)\n",
    "    \n",
    "    # print(X_train[:, :, 4].min().item())\n",
    "    # print(X_train[:, :, 4].max().item())\n",
    "    # Train\n",
    "    epochs = 50\n",
    "    for epoch in range(epochs):\n",
    "\n",
    "        pred, h1, c1, h2, c2= model(X_train, h1, c1, h2, c2)\n",
    "        # print(pred.shape)\n",
    "\n",
    "        loss = loss_fcn(pred, y_train)\n",
    "        if epoch%100 == 0:\n",
    "            print(epoch, loss.item())\n",
    "\n",
    "        optimizer.zero_grad()\n",
    "        loss.backward(retain_graph = True)  \n",
    "        optimizer.step()\n",
    "\n",
    "        h1 = h1.detach()\n",
    "        c1 = c1.detach()\n",
    "        h2 = h2.detach()\n",
    "        c2 = c2.detach()\n"
   ]
  },
  {
   "cell_type": "code",
   "execution_count": null,
   "metadata": {},
   "outputs": [
    {
     "name": "stdout",
     "output_type": "stream",
     "text": [
      "(10080,)\n",
      "(10080,)\n",
      "       Test  Predictions  difference\n",
      "0 -0.507465     0.175224   -0.682689\n",
      "1 -0.508983     0.173943   -0.682926\n",
      "2 -0.483857     0.172220   -0.656077\n",
      "3 -0.506060     0.174056   -0.680116\n",
      "4 -0.506819     0.174713   -0.681533\n"
     ]
    }
   ],
   "source": [
    "y_test_list, y_pred_list = [], []\n",
    "for batch in test_batchs:\n",
    "    X_test, y_test= createSequences(batch, 30)\n",
    "    y_test = y_test.reshape(-1,1)\n",
    "    X_test = X_test.float()\n",
    "\n",
    "    # print(X_test.shape)\n",
    "\n",
    "    y_pred, h1, c1, h2, c2 = model(X_test, h1, c1, h2, c2)\n",
    "    y_pred_list.append(y_pred.detach())\n",
    "    y_test_list.append(y_test)\n",
    "\n",
    "y_pred_list = np.array(y_pred_list).flatten()\n",
    "y_test_list = np.array(y_test_list).flatten()\n",
    "\n",
    "data_verify = pd.DataFrame(y_test.tolist(), columns=[\"Test\"])\n",
    "data_predicted = pd.DataFrame(y_pred.tolist(),columns=['Predictions'])\n",
    "\n",
    "final_output = pd.concat([data_verify, data_predicted], axis=1)\n",
    "final_output['difference'] = final_output['Test'] - final_output['Predictions']\n",
    "print(final_output.head())"
   ]
  }
 ],
 "metadata": {
  "kernelspec": {
   "display_name": "Python 3",
   "language": "python",
   "name": "python3"
  },
  "language_info": {
   "codemirror_mode": {
    "name": "ipython",
    "version": 3
   },
   "file_extension": ".py",
   "mimetype": "text/x-python",
   "name": "python",
   "nbconvert_exporter": "python",
   "pygments_lexer": "ipython3",
   "version": "3.12.5"
  }
 },
 "nbformat": 4,
 "nbformat_minor": 2
}
