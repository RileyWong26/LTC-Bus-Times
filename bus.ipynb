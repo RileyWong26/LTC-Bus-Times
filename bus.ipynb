{
 "cells": [
  {
   "cell_type": "markdown",
   "metadata": {},
   "source": [
    "Imports"
   ]
  },
  {
   "cell_type": "code",
   "execution_count": 1,
   "metadata": {},
   "outputs": [],
   "source": [
    "import pandas as pd\n",
    "import numpy as np\n",
    "import torch\n",
    "import torch.nn as nn\n",
    "from sklearn.preprocessing import MinMaxScaler\n",
    "from torch.utils.data import TensorDataset, DataLoader, RandomSampler\n",
    "from sklearn.preprocessing import LabelEncoder"
   ]
  },
  {
   "cell_type": "code",
   "execution_count": 2,
   "metadata": {},
   "outputs": [],
   "source": [
    "# Import data\n",
    "data = pd.read_csv(\"combined3_102_sorted.csv\")\n",
    "data2 = pd.read_csv(\"102_with_weather.csv\")\n",
    "# scaler = MinMaxScaler()\n",
    "# scaled_data = scaler.fit_transform(data[['delay', 'scheduled_time', 'day', 'day_of_year']])\n",
    "\n",
    "weather = data2[\"Weather\"].values\n",
    "encoder = LabelEncoder()\n",
    "unique = encoder.fit_transform(weather).reshape(-1,1)\n",
    "unique += 1\n",
    "\n",
    "# Data prep and seperation\n",
    "data = data[['delay', 'scheduled_time', 'day', 'day_of_year']].values\n",
    "\n",
    "# Z score normalization\n",
    "mean = np.mean(data)\n",
    "std_dev = np.std(data)\n",
    "scaled_data = (data-mean)/std_dev\n",
    "\n",
    "scaled_data = np.concatenate((scaled_data, unique), axis=1)"
   ]
  },
  {
   "cell_type": "code",
   "execution_count": 3,
   "metadata": {},
   "outputs": [],
   "source": [
    "# Inverse Z score normalization \n",
    "def inverse_Z_Score(array):\n",
    "    array *= std_dev\n",
    "    array += mean\n",
    "    return array"
   ]
  },
  {
   "cell_type": "code",
   "execution_count": 4,
   "metadata": {},
   "outputs": [],
   "source": [
    "\n",
    "torch.manual_seed(100)\n",
    "\n",
    "# # create train and test sets\n",
    "# sizes = int(len(scaled_data) * 0.2)\n",
    "# test_data = scaled_data[:sizes]\n",
    "# train_data = scaled_data[sizes:]\n",
    "train_sample = RandomSampler(data_source=scaled_data, num_samples=50100)\n",
    "test_sample = RandomSampler(data_source=scaled_data, num_samples=12600)"
   ]
  },
  {
   "cell_type": "code",
   "execution_count": 5,
   "metadata": {},
   "outputs": [],
   "source": [
    "# Batches\n",
    "train_batchs = DataLoader(dataset=scaled_data, batch_size=60, shuffle=False, sampler=train_sample)  \n",
    "test_batchs = DataLoader(dataset=scaled_data, batch_size=60, shuffle=False, sampler =test_sample)\n",
    "# Sequence creator\n",
    "def createSequences(data, seq_length):\n",
    "    x, y = [], []\n",
    "    for i in range(len(data) - seq_length):\n",
    "        x_data = data[i:(seq_length+i)]\n",
    "        y_data = data[seq_length+i][0]\n",
    "        if len(x_data) < 30:\n",
    "            for i in range (30 - len(x_data)):\n",
    "                x_data.append(0)\n",
    "        x.append(x_data)\n",
    "        y.append(y_data)\n",
    "    return torch.stack(x, dim=0), torch.stack(y, dim=0)"
   ]
  },
  {
   "cell_type": "markdown",
   "metadata": {},
   "source": [
    "Normal LSTM"
   ]
  },
  {
   "cell_type": "code",
   "execution_count": 6,
   "metadata": {},
   "outputs": [],
   "source": [
    "class LSTM(nn.Module):\n",
    "    def __init__(self, inputdim, outputdim, layerdim, dropout):\n",
    "        super(LSTM, self).__init__()\n",
    "        self.layerdim = layerdim\n",
    "        self.lstm1 = nn.LSTM(inputdim, 108, layerdim, batch_first=True)\n",
    "        self.batchnorm = nn.BatchNorm1d(108)\n",
    "        self.dropout = nn.Dropout(dropout)\n",
    "        self.lstm2 = nn.LSTM(108, 56, layerdim, batch_first=True)\n",
    "        self.layers = nn.Sequential(\n",
    "            nn.Linear(56,32),\n",
    "            nn.ReLU(),\n",
    "            nn.Linear(32, outputdim)\n",
    "        )\n",
    "    \n",
    "    def forward(self, x, h1=None, c1=None, h2=None, c2=None):\n",
    "        if h1 is None or c1 is None or h2 is None or c2 is None:\n",
    "            h1 = torch.zeros(self.layerdim, x.size(0), 108)\n",
    "            c1 = torch.zeros(self.layerdim, x.size(0), 108)\n",
    "            h2 = torch.zeros(self.layerdim, x.size(0), 56)\n",
    "            c2 = torch.zeros(self.layerdim, x.size(0), 56)\n",
    "        \n",
    "        out,(h1, c1) = self.lstm1(x, (h1,c1))\n",
    "\n",
    "        # Batch Normalization\n",
    "        batch_size, seq_len, hidd_size = out.shape\n",
    "        out = out.reshape(batch_size * seq_len, hidd_size)\n",
    "        out = self.batchnorm(out)\n",
    "        out = out.reshape(batch_size, seq_len, hidd_size)\n",
    "\n",
    "        # Dropout between layers\n",
    "        out = self.dropout(out)\n",
    "        # Second LSTM\n",
    "        out, (h2, c2) = self.lstm2(out, (h2, c2))\n",
    "        # Dense layers \n",
    "        out = self.layers(out)\n",
    "        out = out[:, -1, :]\n",
    "        return out, h1, c1, h2, c2"
   ]
  },
  {
   "cell_type": "markdown",
   "metadata": {},
   "source": [
    "BiLSTM"
   ]
  },
  {
   "cell_type": "code",
   "execution_count": 7,
   "metadata": {},
   "outputs": [],
   "source": [
    "class BiLSTM(nn.Module):\n",
    "    def __init__(self, inputdim, outputdim, layerdim, dropout):\n",
    "        super(BiLSTM, self).__init__()\n",
    "        self.layerdim = layerdim\n",
    "        self.embedding = nn.Embedding(num_embeddings=25, embedding_dim=1)\n",
    "\n",
    "        self.lstm1 = nn.LSTM(inputdim, 108, layerdim, batch_first=True, bidirectional=True)\n",
    "        self.batchnorm = nn.BatchNorm1d(216)\n",
    "        self.dropout = nn.Dropout(dropout)\n",
    "        self.lstm2 = nn.LSTM(108 * 2, 56, layerdim, batch_first=True, bidirectional=True)\n",
    "        self.layers = nn.Sequential(\n",
    "            nn.Linear(56 * 2,56),\n",
    "            nn.ReLU(),\n",
    "            nn.Linear(56, 32),\n",
    "            nn.ReLU(),\n",
    "            nn.Linear(32, outputdim)\n",
    "        )\n",
    "    \n",
    "    def forward(self, x, h1=None, c1=None, h2=None, c2=None):\n",
    "        if h1 is None or c1 is None or h2 is None or c2 is None:\n",
    "            h1 = torch.zeros(self.layerdim*2, x.size(0), 108)\n",
    "            c1 = torch.zeros(self.layerdim*2, x.size(0), 108)\n",
    "            h2 = torch.zeros(self.layerdim*2, x.size(0), 56)\n",
    "            c2 = torch.zeros(self.layerdim*2, x.size(0), 56)\n",
    "        \n",
    "        emb = x[:, :, 4].to(torch.long)\n",
    "\n",
    "        embed = self.embedding(emb).to(torch.float32)\n",
    "        x = x[:, :, :4]\n",
    "        \n",
    "        x = torch.cat([embed, x], dim=2)\n",
    "        out,(h1, c1) = self.lstm1(x, (h1,c1))\n",
    "\n",
    "        # Batch Normilization\n",
    "        batch_size, seq_len, hidd_size = out.shape\n",
    "        out = out.reshape(batch_size * seq_len, hidd_size)\n",
    "        out = self.batchnorm(out)\n",
    "        out = out.reshape(batch_size, seq_len, hidd_size)\n",
    "\n",
    "        # Drop out between layers\n",
    "        out = self.dropout(out)\n",
    "        # Second LSTM layer\n",
    "        out, (h2, c2) = self.lstm2(out, (h2, c2))\n",
    "        out = self.layers(out)\n",
    "        out = out[:, -1, :56]\n",
    "        return out, h1, c1, h2, c2"
   ]
  },
  {
   "cell_type": "markdown",
   "metadata": {},
   "source": [
    "Attention"
   ]
  },
  {
   "cell_type": "code",
   "execution_count": 7,
   "metadata": {},
   "outputs": [],
   "source": [
    "class AttentionBiLSTM(nn.Module):\n",
    "    def __init__(self, inputdim, outputdim, numheads, layerdim, dropout):\n",
    "        super(AttentionBiLSTM, self).__init__()\n",
    "        self.layerdim = layerdim\n",
    "        \n",
    "        self.embedding = nn.Embedding(num_embeddings=27, embedding_dim=1)\n",
    "\n",
    "        self.lstm1 = nn.LSTM(inputdim, 108, layerdim, batch_first=True, bidirectional=True)\n",
    "        self.batchnorm = nn.BatchNorm1d(216)\n",
    "        self.dropout = nn.Dropout(dropout)\n",
    "        self.lstm2 = nn.LSTM(216, 56, layerdim, batch_first=True, bidirectional=True)\n",
    "        self.attention = nn.MultiheadAttention(embed_dim=112, num_heads=numheads, batch_first=True)\n",
    "        self.layers = nn.Sequential(\n",
    "            nn.Linear(112,56),\n",
    "            nn.ReLU(),\n",
    "            nn.Linear(56, 32),\n",
    "            nn.ReLU(),\n",
    "            nn.Linear(32, outputdim)\n",
    "        )\n",
    "    \n",
    "    def forward(self, x, h1=None, c1=None, h2=None, c2=None):\n",
    "        if h1 is None or c1 is None or h2 is None or c2 is None:\n",
    "            h1 = torch.zeros(self.layerdim*2, x.size(0), 108)\n",
    "            c1 = torch.zeros(self.layerdim*2, x.size(0), 108)\n",
    "            h2 = torch.zeros(self.layerdim*2, x.size(0), 56)\n",
    "            c2 = torch.zeros(self.layerdim*2, x.size(0), 56)\n",
    "        \n",
    "        # Embedding\n",
    "        emb = x[:, :, 4].to(torch.long)\n",
    "        \n",
    "        embed = self.embedding(emb).to(torch.float32)\n",
    "        x = x[:, :, :4]\n",
    "        \n",
    "        x = torch.cat([embed, x], dim=2)\n",
    "\n",
    "        # First LSTM\n",
    "        out,(h1, c1) = self.lstm1(x, (h1,c1))\n",
    "\n",
    "        # Batch Normilization\n",
    "        batch_size, seq_len, hidd_size = out.shape\n",
    "        out = out.reshape(batch_size * seq_len, hidd_size)\n",
    "        out = self.batchnorm(out)\n",
    "        out = out.reshape(batch_size, seq_len, hidd_size)\n",
    "\n",
    "        # Drop out between layers\n",
    "        out = self.dropout(out)\n",
    "\n",
    "        # Second LSTM layer\n",
    "        out, (h2, c2) = self.lstm2(out, (h2, c2))\n",
    "\n",
    "        # Add attention layer\n",
    "        out, attn_weights = self.attention(query=out, key=out,value=out)\n",
    "        \n",
    "        # Final dense layers\n",
    "        out = self.layers(out)\n",
    "        out = out[:, -1, :56]\n",
    "        return out, h1, c1, h2, c2"
   ]
  },
  {
   "cell_type": "markdown",
   "metadata": {},
   "source": [
    "model"
   ]
  },
  {
   "cell_type": "code",
   "execution_count": 8,
   "metadata": {},
   "outputs": [],
   "source": [
    "# Model\n",
    "# model = LSTM(inputdim=4, outputdim=1, layerdim=1, dropout=0.2)  # NON Bidirectional\n",
    "# model = BiLSTM(inputdim=5, outputdim=1, layerdim=1, dropout=0.2)  # Bi Directional\n",
    "model = AttentionBiLSTM(inputdim=5, outputdim=1,numheads=4, layerdim=1, dropout=0.2) # Bi Directional with Attention\n",
    "loss_fcn = nn.L1Loss()\n",
    "optimizer = torch.optim.Adam(model.parameters(), lr=0.01)\n"
   ]
  },
  {
   "cell_type": "code",
   "execution_count": 10,
   "metadata": {},
   "outputs": [
    {
     "name": "stdout",
     "output_type": "stream",
     "text": [
      "Epoch 1/25, loss 7.59572\n",
      "Epoch 2/25, loss 7.06641\n",
      "Epoch 3/25, loss 6.82627\n",
      "Epoch 4/25, loss 6.84677\n",
      "Epoch 5/25, loss 6.65719\n",
      "Epoch 6/25, loss 6.81062\n",
      "Epoch 7/25, loss 6.82778\n",
      "Epoch 8/25, loss 152.89724\n",
      "Epoch 9/25, loss 6.48189\n",
      "Epoch 10/25, loss 6.23916\n",
      "Epoch 11/25, loss 6.33116\n",
      "Epoch 12/25, loss 6.29230\n",
      "Epoch 13/25, loss 6.37941\n",
      "Epoch 14/25, loss 6.34523\n"
     ]
    },
    {
     "ename": "KeyboardInterrupt",
     "evalue": "",
     "output_type": "error",
     "traceback": [
      "\u001b[1;31m---------------------------------------------------------------------------\u001b[0m",
      "\u001b[1;31mKeyboardInterrupt\u001b[0m                         Traceback (most recent call last)",
      "Cell \u001b[1;32mIn[10], line 19\u001b[0m\n\u001b[0;32m     17\u001b[0m loss \u001b[38;5;241m=\u001b[39m loss_fcn(pred, y_train)\n\u001b[0;32m     18\u001b[0m optimizer\u001b[38;5;241m.\u001b[39mzero_grad()\n\u001b[1;32m---> 19\u001b[0m \u001b[43mloss\u001b[49m\u001b[38;5;241;43m.\u001b[39;49m\u001b[43mbackward\u001b[49m\u001b[43m(\u001b[49m\u001b[43mretain_graph\u001b[49m\u001b[38;5;241;43m=\u001b[39;49m\u001b[38;5;28;43;01mTrue\u001b[39;49;00m\u001b[43m)\u001b[49m  \n\u001b[0;32m     20\u001b[0m optimizer\u001b[38;5;241m.\u001b[39mstep()\n\u001b[0;32m     22\u001b[0m epoch_loss \u001b[38;5;241m+\u001b[39m\u001b[38;5;241m=\u001b[39m loss\u001b[38;5;241m.\u001b[39mitem()\n",
      "File \u001b[1;32mc:\\Users\\riley\\AppData\\Local\\Programs\\Python\\Python312\\Lib\\site-packages\\torch\\_tensor.py:581\u001b[0m, in \u001b[0;36mTensor.backward\u001b[1;34m(self, gradient, retain_graph, create_graph, inputs)\u001b[0m\n\u001b[0;32m    571\u001b[0m \u001b[38;5;28;01mif\u001b[39;00m has_torch_function_unary(\u001b[38;5;28mself\u001b[39m):\n\u001b[0;32m    572\u001b[0m     \u001b[38;5;28;01mreturn\u001b[39;00m handle_torch_function(\n\u001b[0;32m    573\u001b[0m         Tensor\u001b[38;5;241m.\u001b[39mbackward,\n\u001b[0;32m    574\u001b[0m         (\u001b[38;5;28mself\u001b[39m,),\n\u001b[1;32m   (...)\u001b[0m\n\u001b[0;32m    579\u001b[0m         inputs\u001b[38;5;241m=\u001b[39minputs,\n\u001b[0;32m    580\u001b[0m     )\n\u001b[1;32m--> 581\u001b[0m \u001b[43mtorch\u001b[49m\u001b[38;5;241;43m.\u001b[39;49m\u001b[43mautograd\u001b[49m\u001b[38;5;241;43m.\u001b[39;49m\u001b[43mbackward\u001b[49m\u001b[43m(\u001b[49m\n\u001b[0;32m    582\u001b[0m \u001b[43m    \u001b[49m\u001b[38;5;28;43mself\u001b[39;49m\u001b[43m,\u001b[49m\u001b[43m \u001b[49m\u001b[43mgradient\u001b[49m\u001b[43m,\u001b[49m\u001b[43m \u001b[49m\u001b[43mretain_graph\u001b[49m\u001b[43m,\u001b[49m\u001b[43m \u001b[49m\u001b[43mcreate_graph\u001b[49m\u001b[43m,\u001b[49m\u001b[43m \u001b[49m\u001b[43minputs\u001b[49m\u001b[38;5;241;43m=\u001b[39;49m\u001b[43minputs\u001b[49m\n\u001b[0;32m    583\u001b[0m \u001b[43m\u001b[49m\u001b[43m)\u001b[49m\n",
      "File \u001b[1;32mc:\\Users\\riley\\AppData\\Local\\Programs\\Python\\Python312\\Lib\\site-packages\\torch\\autograd\\__init__.py:347\u001b[0m, in \u001b[0;36mbackward\u001b[1;34m(tensors, grad_tensors, retain_graph, create_graph, grad_variables, inputs)\u001b[0m\n\u001b[0;32m    342\u001b[0m     retain_graph \u001b[38;5;241m=\u001b[39m create_graph\n\u001b[0;32m    344\u001b[0m \u001b[38;5;66;03m# The reason we repeat the same comment below is that\u001b[39;00m\n\u001b[0;32m    345\u001b[0m \u001b[38;5;66;03m# some Python versions print out the first line of a multi-line function\u001b[39;00m\n\u001b[0;32m    346\u001b[0m \u001b[38;5;66;03m# calls in the traceback and some print out the last line\u001b[39;00m\n\u001b[1;32m--> 347\u001b[0m \u001b[43m_engine_run_backward\u001b[49m\u001b[43m(\u001b[49m\n\u001b[0;32m    348\u001b[0m \u001b[43m    \u001b[49m\u001b[43mtensors\u001b[49m\u001b[43m,\u001b[49m\n\u001b[0;32m    349\u001b[0m \u001b[43m    \u001b[49m\u001b[43mgrad_tensors_\u001b[49m\u001b[43m,\u001b[49m\n\u001b[0;32m    350\u001b[0m \u001b[43m    \u001b[49m\u001b[43mretain_graph\u001b[49m\u001b[43m,\u001b[49m\n\u001b[0;32m    351\u001b[0m \u001b[43m    \u001b[49m\u001b[43mcreate_graph\u001b[49m\u001b[43m,\u001b[49m\n\u001b[0;32m    352\u001b[0m \u001b[43m    \u001b[49m\u001b[43minputs\u001b[49m\u001b[43m,\u001b[49m\n\u001b[0;32m    353\u001b[0m \u001b[43m    \u001b[49m\u001b[43mallow_unreachable\u001b[49m\u001b[38;5;241;43m=\u001b[39;49m\u001b[38;5;28;43;01mTrue\u001b[39;49;00m\u001b[43m,\u001b[49m\n\u001b[0;32m    354\u001b[0m \u001b[43m    \u001b[49m\u001b[43maccumulate_grad\u001b[49m\u001b[38;5;241;43m=\u001b[39;49m\u001b[38;5;28;43;01mTrue\u001b[39;49;00m\u001b[43m,\u001b[49m\n\u001b[0;32m    355\u001b[0m \u001b[43m\u001b[49m\u001b[43m)\u001b[49m\n",
      "File \u001b[1;32mc:\\Users\\riley\\AppData\\Local\\Programs\\Python\\Python312\\Lib\\site-packages\\torch\\autograd\\graph.py:825\u001b[0m, in \u001b[0;36m_engine_run_backward\u001b[1;34m(t_outputs, *args, **kwargs)\u001b[0m\n\u001b[0;32m    823\u001b[0m     unregister_hooks \u001b[38;5;241m=\u001b[39m _register_logging_hooks_on_whole_graph(t_outputs)\n\u001b[0;32m    824\u001b[0m \u001b[38;5;28;01mtry\u001b[39;00m:\n\u001b[1;32m--> 825\u001b[0m     \u001b[38;5;28;01mreturn\u001b[39;00m \u001b[43mVariable\u001b[49m\u001b[38;5;241;43m.\u001b[39;49m\u001b[43m_execution_engine\u001b[49m\u001b[38;5;241;43m.\u001b[39;49m\u001b[43mrun_backward\u001b[49m\u001b[43m(\u001b[49m\u001b[43m  \u001b[49m\u001b[38;5;66;43;03m# Calls into the C++ engine to run the backward pass\u001b[39;49;00m\n\u001b[0;32m    826\u001b[0m \u001b[43m        \u001b[49m\u001b[43mt_outputs\u001b[49m\u001b[43m,\u001b[49m\u001b[43m \u001b[49m\u001b[38;5;241;43m*\u001b[39;49m\u001b[43margs\u001b[49m\u001b[43m,\u001b[49m\u001b[43m \u001b[49m\u001b[38;5;241;43m*\u001b[39;49m\u001b[38;5;241;43m*\u001b[39;49m\u001b[43mkwargs\u001b[49m\n\u001b[0;32m    827\u001b[0m \u001b[43m    \u001b[49m\u001b[43m)\u001b[49m  \u001b[38;5;66;03m# Calls into the C++ engine to run the backward pass\u001b[39;00m\n\u001b[0;32m    828\u001b[0m \u001b[38;5;28;01mfinally\u001b[39;00m:\n\u001b[0;32m    829\u001b[0m     \u001b[38;5;28;01mif\u001b[39;00m attach_logging_hooks:\n",
      "\u001b[1;31mKeyboardInterrupt\u001b[0m: "
     ]
    }
   ],
   "source": [
    "# print(len(train_batchs))\n",
    "h1, c1, h2, c2 = None, None, None, None\n",
    "epochs = 25\n",
    "for epoch in range(epochs):\n",
    "    epoch_loss = 0\n",
    "\n",
    "    for batch in train_batchs:\n",
    "        # Create sequences\n",
    "        X_train, y_train = createSequences(batch, 30)\n",
    "        y_train = y_train.reshape(-1,1)\n",
    "        X_train = X_train.float()\n",
    "        # print(X_train.shape, y_train.shape)\n",
    "        \n",
    "        # Train\n",
    "        pred, h1, c1, h2, c2 = model(X_train, h1, c1, h2, c2)\n",
    "        # print(pred.shape)\n",
    "\n",
    "        loss = loss_fcn(pred, y_train)\n",
    "        optimizer.zero_grad()\n",
    "        loss.backward(retain_graph=True)  \n",
    "        optimizer.step()\n",
    "\n",
    "        epoch_loss += loss.item()\n",
    "\n",
    "        h1 = h1.detach()\n",
    "        c1 = c1.detach()\n",
    "        h2 = h2.detach()\n",
    "        c2 = c2.detach()\n",
    "    \n",
    "    print(f\"Epoch {epoch+1}/{epochs}, loss {epoch_loss:.5f}\")\n"
   ]
  },
  {
   "cell_type": "code",
   "execution_count": 15,
   "metadata": {},
   "outputs": [
    {
     "name": "stdout",
     "output_type": "stream",
     "text": [
      "    Test  Predictions  difference\n",
      "0 -116.0   -10.764648 -105.235352\n",
      "1  216.0   -10.764648  226.764648\n",
      "2 -260.0   -10.764648 -249.235352\n",
      "3  -75.0   -10.764648  -64.235352\n",
      "4   -4.0   -10.764648    6.764648\n"
     ]
    }
   ],
   "source": [
    "y_test_list, y_pred_list = [], []\n",
    "for batch in test_batchs:\n",
    "    X_test, y_test= createSequences(batch, 30)\n",
    "    y_test = y_test.reshape(-1,1)\n",
    "    X_test = X_test.float()\n",
    "\n",
    "    # print(X_test.shape)\n",
    "\n",
    "    y_pred, h1, c1, h2, c2 = model(X_test, h1, c1, h2, c2)\n",
    "    y_pred_list.append(y_pred.detach())\n",
    "    y_test_list.append(y_test)\n",
    "\n",
    "y_pred_list = np.array(y_pred_list).flatten()\n",
    "y_test_list = np.array(y_test_list).flatten()\n",
    "\n",
    "y_pred_list = inverse_Z_Score(y_pred_list)\n",
    "y_test_list = inverse_Z_Score(y_test_list)\n",
    "\n",
    "data_verify = pd.DataFrame(y_test_list.tolist(), columns=[\"Test\"])\n",
    "data_predicted = pd.DataFrame(y_pred_list.tolist(),columns=['Predictions'])\n",
    "\n",
    "final_output = pd.concat([data_verify, data_predicted], axis=1)\n",
    "final_output['difference'] = final_output['Test'] - final_output['Predictions']\n",
    "print(final_output.head())"
   ]
  }
 ],
 "metadata": {
  "kernelspec": {
   "display_name": "Python 3",
   "language": "python",
   "name": "python3"
  },
  "language_info": {
   "codemirror_mode": {
    "name": "ipython",
    "version": 3
   },
   "file_extension": ".py",
   "mimetype": "text/x-python",
   "name": "python",
   "nbconvert_exporter": "python",
   "pygments_lexer": "ipython3",
   "version": "3.12.5"
  }
 },
 "nbformat": 4,
 "nbformat_minor": 2
}
