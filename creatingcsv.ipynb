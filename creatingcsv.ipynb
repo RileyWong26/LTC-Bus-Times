{
 "cells": [
  {
   "cell_type": "code",
   "execution_count": 2,
   "metadata": {},
   "outputs": [],
   "source": [
    "import pandas as pd\n",
    "from sklearn.preprocessing import LabelEncoder\n",
    "import numpy as np\n"
   ]
  },
  {
   "cell_type": "code",
   "execution_count": null,
   "metadata": {},
   "outputs": [
    {
     "name": "stderr",
     "output_type": "stream",
     "text": [
      "C:\\Users\\riley\\AppData\\Local\\Temp\\ipykernel_376\\881715892.py:8: FutureWarning: Series.fillna with 'method' is deprecated and will raise in a future version. Use obj.ffill() or obj.bfill() instead.\n",
      "  weather = data['Weather'].fillna(method='ffill')\n"
     ]
    },
    {
     "name": "stdout",
     "output_type": "stream",
     "text": [
      "        route_id  delay  vehicle_id  stop_id  day_of_year  day  \\\n",
      "0            102      0      3527.0      709          259    6   \n",
      "1            102    -20      3527.0       57          259    6   \n",
      "2            102    -15      3527.0      266          259    6   \n",
      "3            102   -155      3527.0      422          259    6   \n",
      "4            102   -150      3527.0      967          259    6   \n",
      "...          ...    ...         ...      ...          ...  ...   \n",
      "383802       102    308      3331.0     1539           12    6   \n",
      "383803       102    196      3331.0       54           12    6   \n",
      "383804       102    256      3331.0       54           12    6   \n",
      "383805       102    329      3331.0      486           12    6   \n",
      "383806       102    225      3331.0      486           12    6   \n",
      "\n",
      "        scheduled_time  weather  temperature  \n",
      "0                60900        1         26.6  \n",
      "1                60966        1         26.6  \n",
      "2                60966        1         26.6  \n",
      "3                61101        1         26.6  \n",
      "4                61101        1         26.6  \n",
      "...                ...      ...          ...  \n",
      "383802           86229        5         -0.2  \n",
      "383803           86340        5         -0.2  \n",
      "383804           86340        5         -0.2  \n",
      "383805           86340        5         -0.2  \n",
      "383806           86340        5         -0.2  \n",
      "\n",
      "[299850 rows x 9 columns]\n"
     ]
    }
   ],
   "source": [
    "data = pd.read_csv(\"102_with_weather.csv\")\n",
    "scheduled_time = pd.read_csv('combined3_102_sorted.csv')\n",
    "scheduled_time = scheduled_time[['scheduled_time']]\n",
    "\n",
    "newdata = pd.DataFrame(data[['route_id','delay', 'vehicle_id','stop_id','day_of_year','day']])\n",
    "\n",
    "# Fill the nans in weather with the things above it\n",
    "weather = data['Weather'].fillna(method='ffill')\n",
    "\n",
    "# Change the temperature column name..\n",
    "temperature = data[['Temp (°C)']].values\n",
    "temp = pd.DataFrame(temperature, columns=['temperature'])\n",
    "\n",
    "# Encode weather\n",
    "label = LabelEncoder()\n",
    "encoded_weather = label.fit_transform(weather)\n",
    "encoded_weather = pd.DataFrame(encoded_weather, columns=['weather'])\n",
    "\n",
    "newframe = pd.concat([newdata, scheduled_time, encoded_weather, temp], axis=1)\n",
    "\n",
    "\n",
    "# Mask get rid of times Weather station was not running\n",
    "mask = data['Temp (°C)'].isna()\n",
    "newframe = newframe[~mask]\n",
    "print(newframe)\n",
    "\n",
    "# Write to csv\n",
    "newframe.to_csv('102_with_climate.csv',index=False)"
   ]
  }
 ],
 "metadata": {
  "kernelspec": {
   "display_name": "Python 3",
   "language": "python",
   "name": "python3"
  },
  "language_info": {
   "codemirror_mode": {
    "name": "ipython",
    "version": 3
   },
   "file_extension": ".py",
   "mimetype": "text/x-python",
   "name": "python",
   "nbconvert_exporter": "python",
   "pygments_lexer": "ipython3",
   "version": "3.12.5"
  }
 },
 "nbformat": 4,
 "nbformat_minor": 2
}
